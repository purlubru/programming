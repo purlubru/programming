{
 "cells": [
  {
   "cell_type": "markdown",
   "id": "b1530d1e",
   "metadata": {},
   "source": [
    "### Введение"
   ]
  },
  {
   "cell_type": "markdown",
   "id": "c44f8f5e",
   "metadata": {},
   "source": [
    "В своей классической работе о переходности, Хоппер и Томпсон (1980: 252) выделают следующие параметры, характерные для типично переходной и типично непереходной ситуаций."
   ]
  },
  {
   "cell_type": "markdown",
   "id": "40c0db92",
   "metadata": {},
   "source": [
    "| criterion | high transitivity | low transitivity |\n",
    "|-----------|-------------------|------------------|\n",
    "| a. Participants | 2+ | 1 |\n",
    "| b. Kinesis | action | non-action |\n",
    "| c. Aspect | telic | atelic |\n",
    "| d. Punctuality | punctual | non-punctual |\n",
    "| e. Volitionality | volitional | non-volitional |\n",
    "| f. Affirmation | affirmative | negative |\n",
    "| g. Mode | realis | irrealis |\n",
    "| h. Agency | A high in potency | A low in potency |\n",
    "| i. Affectedness of O | O totally affected | O not affected |\n",
    "| j. Individuation of O | O highly individuated | O non-individuated |"
   ]
  },
  {
   "cell_type": "markdown",
   "id": "daad0ce7",
   "metadata": {},
   "source": [
    "В данной работе я хочу посмотреть, насколько переходные и непереходные глаголы в \"Приглашении на казнь\" близки или далеки от своего прототипа. Для простоты я ограничусь следующими параметрами:\n",
    "* переходность глагола\n",
    "* вид глагола (совершенный будет считаться как telic, несовершенный как atelic)\n",
    "* одушевлённость подлежащего\n",
    "* одушевлённость дополнения (если имеется)\n",
    "* число дополнения (если имеется)"
   ]
  },
  {
   "cell_type": "markdown",
   "id": "dfa93466",
   "metadata": {},
   "source": [
    "### 1. Создание базы данных"
   ]
  },
  {
   "cell_type": "markdown",
   "id": "74fbfd3d",
   "metadata": {},
   "source": [
    "База данных будет иметь следующую архитектуру:\n",
    "1. таблица с глаголами и их характеристиками\n",
    "2. таблица с подлежащими непереходных глаголов и их характеристиками\n",
    "3. таблица с подлежащими переходных глаголов и их характеристиками\n",
    "4. таблица с дополнениями переходных глаголов и их характеристиками"
   ]
  },
  {
   "cell_type": "code",
   "execution_count": 1,
   "id": "0745d21c",
   "metadata": {},
   "outputs": [],
   "source": [
    "import nltk"
   ]
  },
  {
   "cell_type": "code",
   "execution_count": 2,
   "id": "afef4eab",
   "metadata": {},
   "outputs": [
    {
     "name": "stderr",
     "output_type": "stream",
     "text": [
      "[nltk_data] Downloading package punkt to\n",
      "[nltk_data]     C:\\Users\\NewUser\\AppData\\Roaming\\nltk_data...\n",
      "[nltk_data]   Package punkt is already up-to-date!\n",
      "[nltk_data] Downloading package averaged_perceptron_tagger to\n",
      "[nltk_data]     C:\\Users\\NewUser\\AppData\\Roaming\\nltk_data...\n",
      "[nltk_data]   Package averaged_perceptron_tagger is already up-to-\n",
      "[nltk_data]       date!\n"
     ]
    },
    {
     "data": {
      "text/plain": [
       "True"
      ]
     },
     "execution_count": 2,
     "metadata": {},
     "output_type": "execute_result"
    }
   ],
   "source": [
    "nltk.download('punkt')\n",
    "nltk.download('averaged_perceptron_tagger')"
   ]
  },
  {
   "cell_type": "code",
   "execution_count": 3,
   "id": "d67a25e7",
   "metadata": {},
   "outputs": [],
   "source": [
    "file = open('Приглашение_на_казнь.txt', 'r', encoding='utf-8')\n",
    "cincinnat = file.read()\n",
    "file.close()"
   ]
  },
  {
   "cell_type": "code",
   "execution_count": 4,
   "id": "822bd562",
   "metadata": {},
   "outputs": [
    {
     "data": {
      "text/plain": [
       "['Владимир Набоков.',\n",
       " 'Приглашение на казнь\\n\\n\\n\\nComme un fou se croit Dieu\\nnous nous croyons mortels.',\n",
       " '/Delalande.',\n",
       " 'Discours sur les ombres/[*]\\n\\n------------------------------------------------\\n[*] Подобно тому как глупец полагает себя богом,\\nмы считаем, что мы смертны.',\n",
       " '/Делаланд.',\n",
       " '\"Разговоры теней\"/ (франц.).',\n",
       " '----------------------------\\n\\n\\nI\\n\\n\\n     Сообразно  с  законом,  Цинциннату  Ц.  объявили  смертный\\nприговор  шепотом.',\n",
       " 'Все  встали,  обмениваясь  улыбками.',\n",
       " 'Седой\\nсудья,   припав  к   его  уху,   подышав,   сообщив,   медленно\\nотодвинулся,   как  будто  отлипал.',\n",
       " 'Засим  Цинцинната  отвезли\\nобратно в  крепость.']"
      ]
     },
     "execution_count": 4,
     "metadata": {},
     "output_type": "execute_result"
    }
   ],
   "source": [
    "death_sentence = nltk.sent_tokenize(cincinnat)\n",
    "death_sentence[:10]"
   ]
  },
  {
   "cell_type": "code",
   "execution_count": 6,
   "id": "96fe6f0c",
   "metadata": {},
   "outputs": [],
   "source": [
    "import natasha"
   ]
  },
  {
   "cell_type": "code",
   "execution_count": 7,
   "id": "439da326",
   "metadata": {},
   "outputs": [],
   "source": [
    "emb = natasha.NewsEmbedding()\n",
    "segmenter = natasha.Segmenter()\n",
    "morph_vocab = natasha.MorphVocab()\n",
    "morph_tagger = natasha.NewsMorphTagger(emb)\n",
    "syntax_parser = natasha.NewsSyntaxParser(emb)"
   ]
  },
  {
   "cell_type": "code",
   "execution_count": 8,
   "id": "d4ecffcf",
   "metadata": {},
   "outputs": [],
   "source": [
    "from pymorphy2 import MorphAnalyzer\n",
    "morph = MorphAnalyzer()"
   ]
  },
  {
   "cell_type": "code",
   "execution_count": 1,
   "id": "d7169400",
   "metadata": {},
   "outputs": [],
   "source": [
    "import sqlite3"
   ]
  },
  {
   "cell_type": "code",
   "execution_count": 11,
   "id": "9806827a",
   "metadata": {},
   "outputs": [],
   "source": [
    "conn = sqlite3.connect('example.db')\n",
    "c = conn.cursor()\n",
    "c.execute(\"DROP TABLE IF EXISTS verbs\")\n",
    "c.execute(\"DROP TABLE IF EXISTS intrans_subjects\")\n",
    "c.execute(\"DROP TABLE IF EXISTS trans_subjects\")\n",
    "c.execute(\"DROP TABLE IF EXISTS objects\")\n",
    "c.execute('PRAGMA encoding=\"UTF-8\"')\n",
    "c.execute(\"CREATE TABLE IF NOT EXISTS verbs(id INTEGER PRIMARY KEY, form text, transitivity text, aspect text)\")\n",
    "c.execute(\"CREATE TABLE IF NOT EXISTS intrans_subjects(id integer not null references verbs(id), form text, pos text, animacy text)\")\n",
    "c.execute(\"CREATE TABLE IF NOT EXISTS trans_subjects(id integer not null references verbs(id), form text, pos text, animacy text)\")\n",
    "c.execute(\"CREATE TABLE IF NOT EXISTS objects(id integer not null references verbs(id), form text, pos text, animacy text, number text)\")\n",
    "conn.commit()"
   ]
  },
  {
   "cell_type": "code",
   "execution_count": 12,
   "id": "789080f5",
   "metadata": {},
   "outputs": [],
   "source": [
    "def add_to_db(pred, t, a, subj, s_pos, s_an, obj, o_pos, o_an, o_num, i):\n",
    "    c.execute('INSERT INTO verbs (id, form, transitivity, aspect) VALUES (?, ?, ?, ?)', (i, pred, t, a))\n",
    "    if t == 'tran':\n",
    "        c.execute('INSERT INTO trans_subjects (id, form, pos, animacy) VALUES (?, ?, ?, ?)', (i, subj, s_pos, s_an))\n",
    "        c.execute('INSERT INTO objects (id, form, pos, animacy, number) VALUES (?, ?, ?, ?, ?)', (i, obj, o_pos, o_an, o_num))\n",
    "    else:\n",
    "        c.execute('INSERT INTO intrans_subjects (id, form, pos, animacy) VALUES (?, ?, ?, ?)', (i, subj, s_pos, s_an))\n",
    "    conn.commit()"
   ]
  },
  {
   "cell_type": "code",
   "execution_count": 13,
   "id": "7fce65c3",
   "metadata": {},
   "outputs": [],
   "source": [
    "i = 0\n",
    "for s in death_sentence:\n",
    "    doc = natasha.Doc(s)\n",
    "    doc.segment(segmenter)\n",
    "    doc.parse_syntax(syntax_parser)\n",
    "    dic = {_.text: _.rel for _ in doc.tokens}\n",
    "    synt = dict((v,k) for k,v in dic.items())\n",
    "    doc.tag_morph(morph_tagger)\n",
    "    pos = {_.text: _.pos for _ in doc.tokens}\n",
    "    feats = {_.text: _.feats for _ in doc.tokens}\n",
    "    pred = 0\n",
    "    t = 0\n",
    "    a = 0\n",
    "    subj = 0\n",
    "    s_pos = 0\n",
    "    s_an = 0\n",
    "    obj = 0\n",
    "    o_pos = 0\n",
    "    o_an = 0\n",
    "    o_num = 0\n",
    "    try:\n",
    "        pred = synt['root']\n",
    "        if pos[pred] == 'VERB':\n",
    "            m = morph.parse(pred)[0]\n",
    "            t = m.tag.transitivity\n",
    "            a = feats[pred]['Aspect']\n",
    "            if t == 'tran':\n",
    "                try:\n",
    "                    obj = synt['obj']\n",
    "                    o_pos = pos[obj]\n",
    "                    o_an = feats[obj]['Animacy']\n",
    "                    o_num = feats[obj]['Number']\n",
    "                except:\n",
    "                    pass\n",
    "            try:\n",
    "                subj = synt['nsubj']\n",
    "                s_pos = pos[subj]\n",
    "                s_an = feats[subj]['Animacy']\n",
    "            except:\n",
    "                pass\n",
    "            i += 1\n",
    "            add_to_db(pred, t, a, subj, s_pos, s_an, obj, o_pos, o_an, o_num, i)\n",
    "    except:\n",
    "        pass"
   ]
  },
  {
   "cell_type": "code",
   "execution_count": 14,
   "id": "68fc7700",
   "metadata": {},
   "outputs": [],
   "source": [
    "conn.commit()\n",
    "conn.close()"
   ]
  },
  {
   "cell_type": "code",
   "execution_count": 2,
   "id": "433284d7",
   "metadata": {},
   "outputs": [
    {
     "name": "stdout",
     "output_type": "stream",
     "text": [
      "[(1, 'считаем', 'tran', 'Imp'), (2, 'объявили', 'tran', 'Perf'), (3, 'встали', 'intr', 'Perf'), (4, 'отодвинулся', 'intr', 'Imp'), (5, 'отвезли', 'tran', 'Perf')]\n"
     ]
    }
   ],
   "source": [
    "conn2 = sqlite3.connect('example.db')\n",
    "c2 = conn2.cursor()\n",
    "c2.execute('SELECT * FROM verbs')\n",
    "print(c2.fetchmany(5))"
   ]
  },
  {
   "cell_type": "code",
   "execution_count": 3,
   "id": "f366c198",
   "metadata": {},
   "outputs": [],
   "source": [
    "import pandas as pd"
   ]
  },
  {
   "cell_type": "code",
   "execution_count": 4,
   "id": "9912edd1",
   "metadata": {},
   "outputs": [],
   "source": [
    "verbs_df = pd.read_sql_query('SELECT * from verbs', conn2)"
   ]
  },
  {
   "cell_type": "code",
   "execution_count": 5,
   "id": "b96b5232",
   "metadata": {},
   "outputs": [
    {
     "name": "stdout",
     "output_type": "stream",
     "text": [
      "   id         form transitivity aspect\n",
      "0   1      считаем         tran    Imp\n",
      "1   2     объявили         tran   Perf\n",
      "2   3       встали         intr   Perf\n",
      "3   4  отодвинулся         intr    Imp\n",
      "4   5      отвезли         tran   Perf\n"
     ]
    }
   ],
   "source": [
    "print(verbs_df.head())"
   ]
  },
  {
   "cell_type": "code",
   "execution_count": 6,
   "id": "b4e2f4fc",
   "metadata": {},
   "outputs": [
    {
     "name": "stdout",
     "output_type": "stream",
     "text": [
      "   id        form    pos animacy\n",
      "0   1          мы   PRON       0\n",
      "1   2  Цинциннату  PROPN    Anim\n",
      "2   5       Засим  PROPN    Anim\n",
      "3   7       Дверь   NOUN    Inan\n",
      "4   9         все   PRON    Anim\n"
     ]
    }
   ],
   "source": [
    "tr_subj_df = pd.read_sql_query('SELECT * from trans_subjects', conn2)\n",
    "print(tr_subj_df.head())"
   ]
  },
  {
   "cell_type": "code",
   "execution_count": 7,
   "id": "646221f9",
   "metadata": {},
   "outputs": [
    {
     "name": "stdout",
     "output_type": "stream",
     "text": [
      "   id     form   pos animacy\n",
      "0   3      Все  PRON    Anim\n",
      "1   4    судья  NOUN    Anim\n",
      "2   6   Дорога  NOUN    Inan\n",
      "3   8  адвокат  NOUN    Anim\n",
      "4  10      все  PRON    Inan\n"
     ]
    }
   ],
   "source": [
    "intr_subj_df = pd.read_sql_query('SELECT * from intrans_subjects', conn2)\n",
    "print(intr_subj_df.head())"
   ]
  },
  {
   "cell_type": "code",
   "execution_count": 8,
   "id": "f30a12dd",
   "metadata": {},
   "outputs": [
    {
     "name": "stdout",
     "output_type": "stream",
     "text": [
      "   id      form   pos animacy number\n",
      "0   1      себя  PRON       0      0\n",
      "1   2  приговор  NOUN    Inan   Sing\n",
      "2   5         0     0       0      0\n",
      "3   7         0     0       0      0\n",
      "4   9         0     0       0      0\n"
     ]
    }
   ],
   "source": [
    "obj_df = pd.read_sql_query('SELECT * from objects', conn2)\n",
    "print(obj_df.head())"
   ]
  },
  {
   "cell_type": "code",
   "execution_count": 9,
   "id": "89fa4421",
   "metadata": {},
   "outputs": [],
   "source": [
    "conn2.close()"
   ]
  },
  {
   "cell_type": "markdown",
   "id": "c0dd707f",
   "metadata": {},
   "source": [
    "### 2. Вид"
   ]
  },
  {
   "cell_type": "markdown",
   "id": "ad76c013",
   "metadata": {},
   "source": [
    "Хоппер (1979: 219) в своей работе про foregrounding in discourse пишет, что в русском языке совершенный вид ассоциирован с foregrounding'ом, а несовершенный - с backgrounding'ом. Выше с помощью библиотеки Natasha я сохраняла в базу данных в качестве предикатов только те лексемы, которые в синтаксическом разборе были помечены как 'root'. Этим тегом помечаются только сказуемые **главной** клаузы. Фоновая информация обычно содержится в подчинённых предложениях. Тем самым, мы можем предположить, что в наших данных глаголов совершенного вида больше, чем несовершенного. Построим график, чтобы это проверить."
   ]
  },
  {
   "cell_type": "code",
   "execution_count": 19,
   "id": "c811daa7",
   "metadata": {},
   "outputs": [],
   "source": [
    "import seaborn as sns\n",
    "import matplotlib.pyplot as plt"
   ]
  },
  {
   "cell_type": "code",
   "execution_count": 24,
   "id": "3eafaa7b",
   "metadata": {},
   "outputs": [
    {
     "data": {
      "text/plain": [
       "<AxesSubplot:xlabel='aspect', ylabel='count'>"
      ]
     },
     "execution_count": 24,
     "metadata": {},
     "output_type": "execute_result"
    },
    {
     "data": {
      "image/png": "[encoded data removed]",
      "text/plain": [
       "<Figure size 432x288 with 1 Axes>"
      ]
     },
     "metadata": {
      "needs_background": "light"
     },
     "output_type": "display_data"
    }
   ],
   "source": [
    "sns.countplot(x = \"aspect\", data = verbs_df)"
   ]
  },
  {
   "cell_type": "markdown",
   "id": "62585b0e",
   "metadata": {},
   "source": [
    "На графике видно, что глаголов совершенного вида в выборке действительно больше, чем глаголов несовершенного. Проверим, является ли эта разница статистически значимой."
   ]
  },
  {
   "cell_type": "code",
   "execution_count": 25,
   "id": "af39e931",
   "metadata": {},
   "outputs": [
    {
     "data": {
      "text/plain": [
       "Perf    893\n",
       "Imp     718\n",
       "Name: aspect, dtype: int64"
      ]
     },
     "execution_count": 25,
     "metadata": {},
     "output_type": "execute_result"
    }
   ],
   "source": [
    "verbs_df['aspect'].value_counts()"
   ]
  },
  {
   "cell_type": "code",
   "execution_count": 23,
   "id": "8afd7501",
   "metadata": {},
   "outputs": [],
   "source": [
    "from statsmodels.stats.proportion import proportions_ztest"
   ]
  },
  {
   "cell_type": "code",
   "execution_count": 34,
   "id": "01d15870",
   "metadata": {},
   "outputs": [
    {
     "data": {
      "text/plain": [
       "(4.385992368340316, 5.772908466140036e-06)"
      ]
     },
     "execution_count": 34,
     "metadata": {},
     "output_type": "execute_result"
    }
   ],
   "source": [
    "proportions_ztest(893, 1611, value = 0.5, alternative = 'larger')"
   ]
  },
  {
   "cell_type": "markdown",
   "id": "573e3118",
   "metadata": {},
   "source": [
    "Статистически вероятность наткнуться в данных на глагол совершенного вида значимо отлична от 50% в большую сторону. Наблюдение Хоппера подтверждается нашими данными.\n",
    "\n",
    "Теперь посмотрим на распределение видов глаголов в зависимости от их переходности."
   ]
  },
  {
   "cell_type": "code",
   "execution_count": 41,
   "id": "ee031443",
   "metadata": {},
   "outputs": [
    {
     "data": {
      "text/plain": [
       "<AxesSubplot:xlabel='count', ylabel='transitivity'>"
      ]
     },
     "execution_count": 41,
     "metadata": {},
     "output_type": "execute_result"
    },
    {
     "data": {
      "image/png": "[encoded data removed]",
      "text/plain": [
       "<Figure size 432x288 with 1 Axes>"
      ]
     },
     "metadata": {
      "needs_background": "light"
     },
     "output_type": "display_data"
    }
   ],
   "source": [
    "sns.countplot(data=verbs_df, y='transitivity', hue='aspect')"
   ]
  },
  {
   "cell_type": "markdown",
   "id": "82fe45a0",
   "metadata": {},
   "source": [
    "На графике видно, что разница между совершенным и несовершенным видом для переходных глаголов больше, чем для непереходных. Проверим это статистически."
   ]
  },
  {
   "cell_type": "code",
   "execution_count": 48,
   "id": "0086f103",
   "metadata": {},
   "outputs": [],
   "source": [
    "ch = pd.crosstab(verbs_df['transitivity'], verbs_df['aspect'])"
   ]
  },
  {
   "cell_type": "code",
   "execution_count": 45,
   "id": "2f67b1c9",
   "metadata": {},
   "outputs": [],
   "source": [
    "from scipy.stats import chi2_contingency"
   ]
  },
  {
   "cell_type": "code",
   "execution_count": 47,
   "id": "68860999",
   "metadata": {},
   "outputs": [
    {
     "data": {
      "text/plain": [
       "0.32414403165834876"
      ]
     },
     "execution_count": 47,
     "metadata": {},
     "output_type": "execute_result"
    }
   ],
   "source": [
    "stat, p, dof, expected = chi2_contingency(ch)\n",
    "p"
   ]
  },
  {
   "cell_type": "markdown",
   "id": "dd5cc975",
   "metadata": {},
   "source": [
    "p-value больше 0.05, поэтому у нас нет оснований считать, что переменные зависимы друг от друга. Тем самым, переходность и вид не влияют друг на друга."
   ]
  },
  {
   "cell_type": "markdown",
   "id": "3f3d5f97",
   "metadata": {},
   "source": [
    "### 3. Одушевлённость подлежащего"
   ]
  },
  {
   "cell_type": "markdown",
   "id": "1eeae294",
   "metadata": {},
   "source": [
    "По Хопперу и Томпсон, переходность ассоциирована с более активным деятелем, а непереходность - с менее активным. Здесь мы упрощаем активность подлежащего до его одушевлённости. Посмотрим на графике, есть ли разница в одушевлённости между переходными и непереходными подлежащими."
   ]
  },
  {
   "cell_type": "code",
   "execution_count": 13,
   "id": "d3fb9a06",
   "metadata": {},
   "outputs": [],
   "source": [
    "tr_subj_df['transitivity'] = 'tran'\n",
    "intr_subj_df['transitivity'] = 'intr'\n",
    "subjects = pd.concat([tr_subj_df, intr_subj_df])"
   ]
  },
  {
   "cell_type": "code",
   "execution_count": 16,
   "id": "6def7f99",
   "metadata": {},
   "outputs": [
    {
     "data": {
      "text/html": [
       "<div>\n",
       "<style scoped>\n",
       "    .dataframe tbody tr th:only-of-type {\n",
       "        vertical-align: middle;\n",
       "    }\n",
       "\n",
       "    .dataframe tbody tr th {\n",
       "        vertical-align: top;\n",
       "    }\n",
       "\n",
       "    .dataframe thead th {\n",
       "        text-align: right;\n",
       "    }\n",
       "</style>\n",
       "<table border=\"1\" class=\"dataframe\">\n",
       "  <thead>\n",
       "    <tr style=\"text-align: right;\">\n",
       "      <th></th>\n",
       "      <th>id</th>\n",
       "      <th>form</th>\n",
       "      <th>pos</th>\n",
       "      <th>transitivity</th>\n",
       "    </tr>\n",
       "    <tr>\n",
       "      <th>animacy</th>\n",
       "      <th></th>\n",
       "      <th></th>\n",
       "      <th></th>\n",
       "      <th></th>\n",
       "    </tr>\n",
       "  </thead>\n",
       "  <tbody>\n",
       "    <tr>\n",
       "      <th>0</th>\n",
       "      <td>831</td>\n",
       "      <td>831</td>\n",
       "      <td>831</td>\n",
       "      <td>831</td>\n",
       "    </tr>\n",
       "    <tr>\n",
       "      <th>Anim</th>\n",
       "      <td>437</td>\n",
       "      <td>437</td>\n",
       "      <td>437</td>\n",
       "      <td>437</td>\n",
       "    </tr>\n",
       "    <tr>\n",
       "      <th>Inan</th>\n",
       "      <td>343</td>\n",
       "      <td>343</td>\n",
       "      <td>343</td>\n",
       "      <td>343</td>\n",
       "    </tr>\n",
       "  </tbody>\n",
       "</table>\n",
       "</div>"
      ],
      "text/plain": [
       "          id  form  pos  transitivity\n",
       "animacy                              \n",
       "0        831   831  831           831\n",
       "Anim     437   437  437           437\n",
       "Inan     343   343  343           343"
      ]
     },
     "execution_count": 16,
     "metadata": {},
     "output_type": "execute_result"
    }
   ],
   "source": [
    "subjects.groupby('animacy').count()"
   ]
  },
  {
   "cell_type": "markdown",
   "id": "fd9d300d",
   "metadata": {},
   "source": [
    "Видно, что у половины подлежащих неопределена одушевлённость. Посмотрим, для слов каких частей речи одушевлённость не определена."
   ]
  },
  {
   "cell_type": "code",
   "execution_count": 20,
   "id": "bdbb367f",
   "metadata": {},
   "outputs": [
    {
     "data": {
      "text/plain": [
       "PRON     490\n",
       "0        271\n",
       "DET       18\n",
       "ADJ       15\n",
       "VERB      12\n",
       "ADV        8\n",
       "SCONJ      8\n",
       "NUM        7\n",
       "X          1\n",
       "PART       1\n",
       "Name: pos, dtype: int64"
      ]
     },
     "execution_count": 20,
     "metadata": {},
     "output_type": "execute_result"
    }
   ],
   "source": [
    "subjects[subjects['animacy'] == '0']['pos'].value_counts()"
   ]
  },
  {
   "cell_type": "markdown",
   "id": "16aa0ef2",
   "metadata": {},
   "source": [
    "Самые большие группы - это подлежащие-местоимения и подлежащие \"без части речи\". Посмотрим внимательнее на то, какие слова встречаются в этих группах частей речи и в других."
   ]
  },
  {
   "cell_type": "code",
   "execution_count": 21,
   "id": "fff897de",
   "metadata": {},
   "outputs": [
    {
     "data": {
      "text/plain": [
       "он            106\n",
       "я              99\n",
       "она            38\n",
       "Я              37\n",
       "Он             36\n",
       "вы             34\n",
       "это            22\n",
       "все            19\n",
       "который        16\n",
       "Она            15\n",
       "они            14\n",
       "ты             13\n",
       "Вы             13\n",
       "мы             12\n",
       "которая         8\n",
       "Все             6\n",
       "Мы              6\n",
       "Это             5\n",
       "что             5\n",
       "кто             5\n",
       "которые         5\n",
       "то              4\n",
       "что-то          4\n",
       "кто-то          4\n",
       "никто           3\n",
       "ничего          3\n",
       "оно             3\n",
       "Кто             2\n",
       "Ты              2\n",
       "Ничего          2\n",
       "Что             2\n",
       "того            1\n",
       "ничто           1\n",
       "некто           1\n",
       "Что-нибудь      1\n",
       "Оно             1\n",
       "чему-то         1\n",
       "Кто-нибудь      1\n",
       "тебя            1\n",
       "Что-то          1\n",
       "То              1\n",
       "Кто-то          1\n",
       "себя            1\n",
       "Name: form, dtype: int64"
      ]
     },
     "execution_count": 21,
     "metadata": {},
     "output_type": "execute_result"
    }
   ],
   "source": [
    "subjects[subjects['pos'] == 'PRON']['form'].value_counts()"
   ]
  },
  {
   "cell_type": "markdown",
   "id": "169e73e3",
   "metadata": {},
   "source": [
    "Местоимения третьего лица и неопределённые местоимения сложно однозначно отнести к одушевлённым или неодушевлённым в общем случае. Однако местоимения 1-2 лица можно с уверенностью считать одушевлёнными."
   ]
  },
  {
   "cell_type": "code",
   "execution_count": 32,
   "id": "05266ac0",
   "metadata": {},
   "outputs": [
    {
     "data": {
      "text/html": [
       "<div>\n",
       "<style scoped>\n",
       "    .dataframe tbody tr th:only-of-type {\n",
       "        vertical-align: middle;\n",
       "    }\n",
       "\n",
       "    .dataframe tbody tr th {\n",
       "        vertical-align: top;\n",
       "    }\n",
       "\n",
       "    .dataframe thead th {\n",
       "        text-align: right;\n",
       "    }\n",
       "</style>\n",
       "<table border=\"1\" class=\"dataframe\">\n",
       "  <thead>\n",
       "    <tr style=\"text-align: right;\">\n",
       "      <th></th>\n",
       "      <th>id</th>\n",
       "      <th>form</th>\n",
       "      <th>pos</th>\n",
       "      <th>animacy</th>\n",
       "      <th>transitivity</th>\n",
       "    </tr>\n",
       "  </thead>\n",
       "  <tbody>\n",
       "    <tr>\n",
       "      <th>0</th>\n",
       "      <td>1</td>\n",
       "      <td>мы</td>\n",
       "      <td>PRON</td>\n",
       "      <td>Anim</td>\n",
       "      <td>tran</td>\n",
       "    </tr>\n",
       "    <tr>\n",
       "      <th>1</th>\n",
       "      <td>2</td>\n",
       "      <td>цинциннату</td>\n",
       "      <td>PROPN</td>\n",
       "      <td>Anim</td>\n",
       "      <td>tran</td>\n",
       "    </tr>\n",
       "    <tr>\n",
       "      <th>2</th>\n",
       "      <td>5</td>\n",
       "      <td>засим</td>\n",
       "      <td>PROPN</td>\n",
       "      <td>Anim</td>\n",
       "      <td>tran</td>\n",
       "    </tr>\n",
       "    <tr>\n",
       "      <th>3</th>\n",
       "      <td>7</td>\n",
       "      <td>дверь</td>\n",
       "      <td>NOUN</td>\n",
       "      <td>Inan</td>\n",
       "      <td>tran</td>\n",
       "    </tr>\n",
       "    <tr>\n",
       "      <th>4</th>\n",
       "      <td>9</td>\n",
       "      <td>все</td>\n",
       "      <td>PRON</td>\n",
       "      <td>Anim</td>\n",
       "      <td>tran</td>\n",
       "    </tr>\n",
       "  </tbody>\n",
       "</table>\n",
       "</div>"
      ],
      "text/plain": [
       "   id        form    pos animacy transitivity\n",
       "0   1          мы   PRON    Anim         tran\n",
       "1   2  цинциннату  PROPN    Anim         tran\n",
       "2   5       засим  PROPN    Anim         tran\n",
       "3   7       дверь   NOUN    Inan         tran\n",
       "4   9         все   PRON    Anim         tran"
      ]
     },
     "execution_count": 32,
     "metadata": {},
     "output_type": "execute_result"
    }
   ],
   "source": [
    "subjects['form'] = subjects['form'].str.lower()\n",
    "subjects.loc[subjects['form'] == 'я', 'animacy'] = 'Anim'\n",
    "subjects.loc[subjects['form'] == 'мы', 'animacy'] = 'Anim'\n",
    "subjects.loc[subjects['form'] == 'ты', 'animacy'] = 'Anim'\n",
    "subjects.loc[subjects['form'] == 'вы', 'animacy'] = 'Anim'\n",
    "subjects.head()"
   ]
  },
  {
   "cell_type": "code",
   "execution_count": 33,
   "id": "662a8f72",
   "metadata": {},
   "outputs": [
    {
     "data": {
      "text/plain": [
       "0    271\n",
       "Name: form, dtype: int64"
      ]
     },
     "execution_count": 33,
     "metadata": {},
     "output_type": "execute_result"
    }
   ],
   "source": [
    "subjects[subjects['pos'] == '0']['form'].value_counts()"
   ]
  },
  {
   "cell_type": "markdown",
   "id": "3f29fb46",
   "metadata": {},
   "source": [
    "Эта группа - это отсутствующие подлежащие. Пока что их просто выкинем. Также выкинем все остальные подлежащие с неопределённой одушевлённостью."
   ]
  },
  {
   "cell_type": "code",
   "execution_count": 43,
   "id": "ade1c1e4",
   "metadata": {},
   "outputs": [],
   "source": [
    "not_null_subjects = subjects[subjects.form != '0']\n",
    "not_null_subjects = not_null_subjects[not_null_subjects.animacy != '0']"
   ]
  },
  {
   "cell_type": "code",
   "execution_count": 44,
   "id": "bd46fcc3",
   "metadata": {},
   "outputs": [
    {
     "data": {
      "text/plain": [
       "<AxesSubplot:xlabel='count', ylabel='transitivity'>"
      ]
     },
     "execution_count": 44,
     "metadata": {},
     "output_type": "execute_result"
    },
    {
     "data": {
      "image/png": "[encoded data removed]",
      "text/plain": [
       "<Figure size 432x288 with 1 Axes>"
      ]
     },
     "metadata": {
      "needs_background": "light"
     },
     "output_type": "display_data"
    }
   ],
   "source": [
    "sns.countplot(data=not_null_subjects, y='transitivity', hue='animacy')"
   ]
  },
  {
   "cell_type": "markdown",
   "id": "0fd9b738",
   "metadata": {},
   "source": [
    "По графику видно, что подлежащии переходных глаголов с большей вероятностью будут одушевлёнными, чем непереходных. Проверим, подстверждается ли это статистически."
   ]
  },
  {
   "cell_type": "code",
   "execution_count": 47,
   "id": "da93f522",
   "metadata": {},
   "outputs": [
    {
     "data": {
      "text/plain": [
       "1.5801830950999775e-10"
      ]
     },
     "execution_count": 47,
     "metadata": {},
     "output_type": "execute_result"
    }
   ],
   "source": [
    "ch = pd.crosstab(not_null_subjects['transitivity'], not_null_subjects['animacy'])\n",
    "stat, p, dof, expected = chi2_contingency(ch)\n",
    "p"
   ]
  },
  {
   "cell_type": "markdown",
   "id": "673ae47b",
   "metadata": {},
   "source": [
    "p-value достаточно маленькое, чтобы можно было отвергнуть гипотезу о независимости одушевлённости подлежащего от переходности глагола.\n",
    "\n",
    "Теперь посмотрим на распределение нулевых (невыраженных) подлежащих при непереходных и переходных глаголах."
   ]
  },
  {
   "cell_type": "code",
   "execution_count": 54,
   "id": "82194068",
   "metadata": {},
   "outputs": [
    {
     "data": {
      "text/plain": [
       "<AxesSubplot:xlabel='count', ylabel='transitivity'>"
      ]
     },
     "execution_count": 54,
     "metadata": {},
     "output_type": "execute_result"
    },
    {
     "data": {
      "image/png": "[encoded data removed]",
      "text/plain": [
       "<Figure size 432x288 with 1 Axes>"
      ]
     },
     "metadata": {
      "needs_background": "light"
     },
     "output_type": "display_data"
    }
   ],
   "source": [
    "subjects['overt'] = subjects['form'] != '0'\n",
    "sns.countplot(data=subjects, y='transitivity', hue='overt')"
   ]
  },
  {
   "cell_type": "markdown",
   "id": "5899bb99",
   "metadata": {},
   "source": [
    "Распределение невыраженных подлежащих примерно одинаковое для глаголов разной переходности. Это тоже можно статистически проверить, но я не буду."
   ]
  },
  {
   "cell_type": "markdown",
   "id": "08a14cee",
   "metadata": {},
   "source": [
    "### 4. Одушевлённость дополнения"
   ]
  },
  {
   "cell_type": "markdown",
   "id": "3f2a5e7e",
   "metadata": {},
   "source": [
    "Согласно Хопперу и Томпсон, в типично переходной ситуации объект действия должен быть highly individuated. Это конечно напрямую не связано с одушевлённостью, но предположим, что одушевлённые объекты более индивидуализированы, чем неодушевлённые, и посмотрим, подтверждается ли это данными."
   ]
  },
  {
   "cell_type": "code",
   "execution_count": 11,
   "id": "3eaf7a96",
   "metadata": {},
   "outputs": [
    {
     "data": {
      "text/plain": [
       "0        234\n",
       "PRON      92\n",
       "VERB      10\n",
       "ADJ        8\n",
       "DET        5\n",
       "ADV        4\n",
       "PART       4\n",
       "SCONJ      4\n",
       "NUM        2\n",
       "ADP        1\n",
       "Name: pos, dtype: int64"
      ]
     },
     "execution_count": 11,
     "metadata": {},
     "output_type": "execute_result"
    }
   ],
   "source": [
    "obj_df[obj_df['animacy'] == '0']['pos'].value_counts()"
   ]
  },
  {
   "cell_type": "code",
   "execution_count": 13,
   "id": "1bfcdd23",
   "metadata": {},
   "outputs": [
    {
     "data": {
      "text/plain": [
       "его           23\n",
       "вас           16\n",
       "ее            14\n",
       "себя          11\n",
       "ничего        11\n",
       "меня           9\n",
       "тебя           7\n",
       "все            5\n",
       "что            4\n",
       "их             4\n",
       "Что            4\n",
       "друг           4\n",
       "это            4\n",
       "которые        3\n",
       "что-нибудь     2\n",
       "нас            2\n",
       "Его            2\n",
       "этого          2\n",
       "то             2\n",
       "что-то         2\n",
       "кого           1\n",
       "Нас            1\n",
       "Это            1\n",
       "Все            1\n",
       "которую        1\n",
       "Ее             1\n",
       "Ничего         1\n",
       "Их             1\n",
       "Меня           1\n",
       "Name: form, dtype: int64"
      ]
     },
     "execution_count": 13,
     "metadata": {},
     "output_type": "execute_result"
    }
   ],
   "source": [
    "obj_df[obj_df['pos'] == 'PRON']['form'].value_counts()"
   ]
  },
  {
   "cell_type": "code",
   "execution_count": 15,
   "id": "e713c133",
   "metadata": {},
   "outputs": [
    {
     "data": {
      "text/html": [
       "<div>\n",
       "<style scoped>\n",
       "    .dataframe tbody tr th:only-of-type {\n",
       "        vertical-align: middle;\n",
       "    }\n",
       "\n",
       "    .dataframe tbody tr th {\n",
       "        vertical-align: top;\n",
       "    }\n",
       "\n",
       "    .dataframe thead th {\n",
       "        text-align: right;\n",
       "    }\n",
       "</style>\n",
       "<table border=\"1\" class=\"dataframe\">\n",
       "  <thead>\n",
       "    <tr style=\"text-align: right;\">\n",
       "      <th></th>\n",
       "      <th>id</th>\n",
       "      <th>form</th>\n",
       "      <th>pos</th>\n",
       "      <th>animacy</th>\n",
       "      <th>number</th>\n",
       "    </tr>\n",
       "  </thead>\n",
       "  <tbody>\n",
       "    <tr>\n",
       "      <th>0</th>\n",
       "      <td>1</td>\n",
       "      <td>себя</td>\n",
       "      <td>PRON</td>\n",
       "      <td>Anim</td>\n",
       "      <td>0</td>\n",
       "    </tr>\n",
       "    <tr>\n",
       "      <th>1</th>\n",
       "      <td>2</td>\n",
       "      <td>приговор</td>\n",
       "      <td>NOUN</td>\n",
       "      <td>Inan</td>\n",
       "      <td>Sing</td>\n",
       "    </tr>\n",
       "    <tr>\n",
       "      <th>2</th>\n",
       "      <td>5</td>\n",
       "      <td>0</td>\n",
       "      <td>0</td>\n",
       "      <td>0</td>\n",
       "      <td>0</td>\n",
       "    </tr>\n",
       "    <tr>\n",
       "      <th>3</th>\n",
       "      <td>7</td>\n",
       "      <td>0</td>\n",
       "      <td>0</td>\n",
       "      <td>0</td>\n",
       "      <td>0</td>\n",
       "    </tr>\n",
       "    <tr>\n",
       "      <th>4</th>\n",
       "      <td>9</td>\n",
       "      <td>0</td>\n",
       "      <td>0</td>\n",
       "      <td>0</td>\n",
       "      <td>0</td>\n",
       "    </tr>\n",
       "  </tbody>\n",
       "</table>\n",
       "</div>"
      ],
      "text/plain": [
       "   id      form   pos animacy number\n",
       "0   1      себя  PRON    Anim      0\n",
       "1   2  приговор  NOUN    Inan   Sing\n",
       "2   5         0     0       0      0\n",
       "3   7         0     0       0      0\n",
       "4   9         0     0       0      0"
      ]
     },
     "execution_count": 15,
     "metadata": {},
     "output_type": "execute_result"
    }
   ],
   "source": [
    "obj_df['form'] = obj_df['form'].str.lower()\n",
    "obj_df.loc[obj_df['form'] == 'меня', 'animacy'] = 'Anim'\n",
    "obj_df.loc[obj_df['form'] == 'тебя', 'animacy'] = 'Anim'\n",
    "obj_df.loc[obj_df['form'] == 'нас', 'animacy'] = 'Anim'\n",
    "obj_df.loc[obj_df['form'] == 'вас', 'animacy'] = 'Anim'\n",
    "obj_df.loc[obj_df['form'] == 'себя', 'animacy'] = 'Anim'\n",
    "obj_df.loc[obj_df['form'] == 'ничего', 'animacy'] = 'Inan'\n",
    "obj_df.loc[obj_df['form'] == 'что-нибудь', 'animacy'] = 'Inan'\n",
    "obj_df.loc[obj_df['form'] == 'что-то', 'animacy'] = 'Inan'\n",
    "obj_df.head()"
   ]
  },
  {
   "cell_type": "code",
   "execution_count": 17,
   "id": "34391c75",
   "metadata": {},
   "outputs": [
    {
     "data": {
      "text/html": [
       "<div>\n",
       "<style scoped>\n",
       "    .dataframe tbody tr th:only-of-type {\n",
       "        vertical-align: middle;\n",
       "    }\n",
       "\n",
       "    .dataframe tbody tr th {\n",
       "        vertical-align: top;\n",
       "    }\n",
       "\n",
       "    .dataframe thead th {\n",
       "        text-align: right;\n",
       "    }\n",
       "</style>\n",
       "<table border=\"1\" class=\"dataframe\">\n",
       "  <thead>\n",
       "    <tr style=\"text-align: right;\">\n",
       "      <th></th>\n",
       "      <th>id</th>\n",
       "      <th>form</th>\n",
       "      <th>pos</th>\n",
       "      <th>animacy</th>\n",
       "      <th>number</th>\n",
       "    </tr>\n",
       "  </thead>\n",
       "  <tbody>\n",
       "    <tr>\n",
       "      <th>0</th>\n",
       "      <td>1</td>\n",
       "      <td>себя</td>\n",
       "      <td>PRON</td>\n",
       "      <td>Anim</td>\n",
       "      <td>0</td>\n",
       "    </tr>\n",
       "    <tr>\n",
       "      <th>1</th>\n",
       "      <td>2</td>\n",
       "      <td>приговор</td>\n",
       "      <td>NOUN</td>\n",
       "      <td>Inan</td>\n",
       "      <td>Sing</td>\n",
       "    </tr>\n",
       "    <tr>\n",
       "      <th>5</th>\n",
       "      <td>12</td>\n",
       "      <td>дрожь</td>\n",
       "      <td>NOUN</td>\n",
       "      <td>Inan</td>\n",
       "      <td>Sing</td>\n",
       "    </tr>\n",
       "    <tr>\n",
       "      <th>7</th>\n",
       "      <td>15</td>\n",
       "      <td>финал</td>\n",
       "      <td>NOUN</td>\n",
       "      <td>Inan</td>\n",
       "      <td>Sing</td>\n",
       "    </tr>\n",
       "    <tr>\n",
       "      <th>8</th>\n",
       "      <td>16</td>\n",
       "      <td>холодок</td>\n",
       "      <td>NOUN</td>\n",
       "      <td>Inan</td>\n",
       "      <td>Sing</td>\n",
       "    </tr>\n",
       "  </tbody>\n",
       "</table>\n",
       "</div>"
      ],
      "text/plain": [
       "   id      form   pos animacy number\n",
       "0   1      себя  PRON    Anim      0\n",
       "1   2  приговор  NOUN    Inan   Sing\n",
       "5  12     дрожь  NOUN    Inan   Sing\n",
       "7  15     финал  NOUN    Inan   Sing\n",
       "8  16   холодок  NOUN    Inan   Sing"
      ]
     },
     "execution_count": 17,
     "metadata": {},
     "output_type": "execute_result"
    }
   ],
   "source": [
    "not_null_objects = obj_df[obj_df.animacy != '0']\n",
    "not_null_objects.head()"
   ]
  },
  {
   "cell_type": "code",
   "execution_count": 20,
   "id": "1f3a0a9a",
   "metadata": {},
   "outputs": [
    {
     "data": {
      "text/plain": [
       "<AxesSubplot:xlabel='animacy', ylabel='count'>"
      ]
     },
     "execution_count": 20,
     "metadata": {},
     "output_type": "execute_result"
    },
    {
     "data": {
      "image/png": "[encoded data removed]",
      "text/plain": [
       "<Figure size 432x288 with 1 Axes>"
      ]
     },
     "metadata": {
      "needs_background": "light"
     },
     "output_type": "display_data"
    }
   ],
   "source": [
    "sns.countplot(x = \"animacy\", data = not_null_objects)"
   ]
  },
  {
   "cell_type": "code",
   "execution_count": 22,
   "id": "e26676f6",
   "metadata": {},
   "outputs": [
    {
     "data": {
      "text/plain": [
       "Inan    368\n",
       "Anim    120\n",
       "Name: animacy, dtype: int64"
      ]
     },
     "execution_count": 22,
     "metadata": {},
     "output_type": "execute_result"
    }
   ],
   "source": [
    "not_null_objects['animacy'].value_counts()"
   ]
  },
  {
   "cell_type": "code",
   "execution_count": 24,
   "id": "b845e7a9",
   "metadata": {},
   "outputs": [
    {
     "data": {
      "text/plain": [
       "(13.035180935797763, 3.859185169635414e-39)"
      ]
     },
     "execution_count": 24,
     "metadata": {},
     "output_type": "execute_result"
    }
   ],
   "source": [
    "proportions_ztest(368, 488, value = 0.5, alternative = 'larger')"
   ]
  },
  {
   "cell_type": "markdown",
   "id": "5b0008d2",
   "metadata": {},
   "source": [
    "Дополнения в Приглашении на казнь статистически значимо чаще неодушевлённые, чем одушевлённые. Это либо говорит о том, что большинство конструкций с переходными глаголами у Набокова слабопереходные, либо о том, что одушевлённость - не лучший критерий для определения индивидуализированности дополнения."
   ]
  },
  {
   "cell_type": "markdown",
   "id": "524494b7",
   "metadata": {},
   "source": [
    "### 5. Число дополнения"
   ]
  },
  {
   "cell_type": "markdown",
   "id": "57162631",
   "metadata": {},
   "source": [
    "Теперь проверим число дополнений. Наши ожидания, основанные на Хоппере и Томпсон, такие: дополнений в единственном числе будет больше, чем дополнений во множественном числе."
   ]
  },
  {
   "cell_type": "code",
   "execution_count": 25,
   "id": "13cab265",
   "metadata": {},
   "outputs": [
    {
     "data": {
      "text/plain": [
       "0        234\n",
       "PRON      92\n",
       "VERB      10\n",
       "ADJ        8\n",
       "DET        5\n",
       "ADV        4\n",
       "PART       4\n",
       "SCONJ      4\n",
       "NUM        3\n",
       "ADP        1\n",
       "Name: pos, dtype: int64"
      ]
     },
     "execution_count": 25,
     "metadata": {},
     "output_type": "execute_result"
    }
   ],
   "source": [
    "obj_df[obj_df['number'] == '0']['pos'].value_counts()"
   ]
  },
  {
   "cell_type": "code",
   "execution_count": 26,
   "id": "4004fc50",
   "metadata": {},
   "outputs": [
    {
     "data": {
      "text/plain": [
       "его           25\n",
       "вас           16\n",
       "ее            15\n",
       "ничего        12\n",
       "себя          11\n",
       "меня          10\n",
       "что            8\n",
       "тебя           7\n",
       "все            6\n",
       "их             5\n",
       "это            5\n",
       "друг           4\n",
       "которые        3\n",
       "нас            3\n",
       "этого          2\n",
       "что-то         2\n",
       "что-нибудь     2\n",
       "то             2\n",
       "которую        1\n",
       "кого           1\n",
       "Name: form, dtype: int64"
      ]
     },
     "execution_count": 26,
     "metadata": {},
     "output_type": "execute_result"
    }
   ],
   "source": [
    "obj_df[obj_df['pos'] == 'PRON']['form'].value_counts()"
   ]
  },
  {
   "cell_type": "code",
   "execution_count": 28,
   "id": "8f5ac93e",
   "metadata": {},
   "outputs": [
    {
     "data": {
      "text/html": [
       "<div>\n",
       "<style scoped>\n",
       "    .dataframe tbody tr th:only-of-type {\n",
       "        vertical-align: middle;\n",
       "    }\n",
       "\n",
       "    .dataframe tbody tr th {\n",
       "        vertical-align: top;\n",
       "    }\n",
       "\n",
       "    .dataframe thead th {\n",
       "        text-align: right;\n",
       "    }\n",
       "</style>\n",
       "<table border=\"1\" class=\"dataframe\">\n",
       "  <thead>\n",
       "    <tr style=\"text-align: right;\">\n",
       "      <th></th>\n",
       "      <th>id</th>\n",
       "      <th>form</th>\n",
       "      <th>pos</th>\n",
       "      <th>animacy</th>\n",
       "      <th>number</th>\n",
       "    </tr>\n",
       "  </thead>\n",
       "  <tbody>\n",
       "    <tr>\n",
       "      <th>0</th>\n",
       "      <td>1</td>\n",
       "      <td>себя</td>\n",
       "      <td>PRON</td>\n",
       "      <td>Anim</td>\n",
       "      <td>0</td>\n",
       "    </tr>\n",
       "    <tr>\n",
       "      <th>1</th>\n",
       "      <td>2</td>\n",
       "      <td>приговор</td>\n",
       "      <td>NOUN</td>\n",
       "      <td>Inan</td>\n",
       "      <td>Sing</td>\n",
       "    </tr>\n",
       "    <tr>\n",
       "      <th>2</th>\n",
       "      <td>5</td>\n",
       "      <td>0</td>\n",
       "      <td>0</td>\n",
       "      <td>0</td>\n",
       "      <td>0</td>\n",
       "    </tr>\n",
       "    <tr>\n",
       "      <th>3</th>\n",
       "      <td>7</td>\n",
       "      <td>0</td>\n",
       "      <td>0</td>\n",
       "      <td>0</td>\n",
       "      <td>0</td>\n",
       "    </tr>\n",
       "    <tr>\n",
       "      <th>4</th>\n",
       "      <td>9</td>\n",
       "      <td>0</td>\n",
       "      <td>0</td>\n",
       "      <td>0</td>\n",
       "      <td>0</td>\n",
       "    </tr>\n",
       "  </tbody>\n",
       "</table>\n",
       "</div>"
      ],
      "text/plain": [
       "   id      form   pos animacy number\n",
       "0   1      себя  PRON    Anim      0\n",
       "1   2  приговор  NOUN    Inan   Sing\n",
       "2   5         0     0       0      0\n",
       "3   7         0     0       0      0\n",
       "4   9         0     0       0      0"
      ]
     },
     "execution_count": 28,
     "metadata": {},
     "output_type": "execute_result"
    }
   ],
   "source": [
    "obj_df['form'] = obj_df['form'].str.lower()\n",
    "obj_df.loc[obj_df['form'] == 'его', 'number'] = 'Sing'\n",
    "obj_df.loc[obj_df['form'] == 'вас', 'number'] = 'Plur'\n",
    "obj_df.loc[obj_df['form'] == 'ее', 'number'] = 'Sing'\n",
    "obj_df.loc[obj_df['form'] == 'меня', 'number'] = 'Sing'\n",
    "obj_df.loc[obj_df['form'] == 'тебя', 'number'] = 'Sing'\n",
    "obj_df.loc[obj_df['form'] == 'их', 'number'] = 'Plur'\n",
    "obj_df.loc[obj_df['form'] == 'нас', 'number'] = 'Plur'\n",
    "obj_df.head()"
   ]
  },
  {
   "cell_type": "code",
   "execution_count": 29,
   "id": "c384189c",
   "metadata": {},
   "outputs": [
    {
     "data": {
      "text/plain": [
       "маленькую      1\n",
       "следующее      1\n",
       "остальные      1\n",
       "новую          1\n",
       "толстый        1\n",
       "маслянистым    1\n",
       "прошептала     1\n",
       "часовой        1\n",
       "другую         1\n",
       "маленьких      1\n",
       "желваками      1\n",
       "второго        1\n",
       "Name: form, dtype: int64"
      ]
     },
     "execution_count": 29,
     "metadata": {},
     "output_type": "execute_result"
    }
   ],
   "source": [
    "obj_df[obj_df['pos'] == 'ADJ']['form'].value_counts()"
   ]
  },
  {
   "cell_type": "code",
   "execution_count": 30,
   "id": "1c2cc698",
   "metadata": {},
   "outputs": [
    {
     "data": {
      "text/html": [
       "<div>\n",
       "<style scoped>\n",
       "    .dataframe tbody tr th:only-of-type {\n",
       "        vertical-align: middle;\n",
       "    }\n",
       "\n",
       "    .dataframe tbody tr th {\n",
       "        vertical-align: top;\n",
       "    }\n",
       "\n",
       "    .dataframe thead th {\n",
       "        text-align: right;\n",
       "    }\n",
       "</style>\n",
       "<table border=\"1\" class=\"dataframe\">\n",
       "  <thead>\n",
       "    <tr style=\"text-align: right;\">\n",
       "      <th></th>\n",
       "      <th>id</th>\n",
       "      <th>form</th>\n",
       "      <th>pos</th>\n",
       "      <th>animacy</th>\n",
       "      <th>number</th>\n",
       "    </tr>\n",
       "  </thead>\n",
       "  <tbody>\n",
       "    <tr>\n",
       "      <th>0</th>\n",
       "      <td>1</td>\n",
       "      <td>себя</td>\n",
       "      <td>PRON</td>\n",
       "      <td>Anim</td>\n",
       "      <td>0</td>\n",
       "    </tr>\n",
       "    <tr>\n",
       "      <th>1</th>\n",
       "      <td>2</td>\n",
       "      <td>приговор</td>\n",
       "      <td>NOUN</td>\n",
       "      <td>Inan</td>\n",
       "      <td>Sing</td>\n",
       "    </tr>\n",
       "    <tr>\n",
       "      <th>2</th>\n",
       "      <td>5</td>\n",
       "      <td>0</td>\n",
       "      <td>0</td>\n",
       "      <td>0</td>\n",
       "      <td>0</td>\n",
       "    </tr>\n",
       "    <tr>\n",
       "      <th>3</th>\n",
       "      <td>7</td>\n",
       "      <td>0</td>\n",
       "      <td>0</td>\n",
       "      <td>0</td>\n",
       "      <td>0</td>\n",
       "    </tr>\n",
       "    <tr>\n",
       "      <th>4</th>\n",
       "      <td>9</td>\n",
       "      <td>0</td>\n",
       "      <td>0</td>\n",
       "      <td>0</td>\n",
       "      <td>0</td>\n",
       "    </tr>\n",
       "  </tbody>\n",
       "</table>\n",
       "</div>"
      ],
      "text/plain": [
       "   id      form   pos animacy number\n",
       "0   1      себя  PRON    Anim      0\n",
       "1   2  приговор  NOUN    Inan   Sing\n",
       "2   5         0     0       0      0\n",
       "3   7         0     0       0      0\n",
       "4   9         0     0       0      0"
      ]
     },
     "execution_count": 30,
     "metadata": {},
     "output_type": "execute_result"
    }
   ],
   "source": [
    "obj_df.loc[obj_df['form'] == 'маленькую', 'number'] = 'Sing'\n",
    "obj_df.loc[obj_df['form'] == 'остальные', 'number'] = 'Plur'\n",
    "obj_df.loc[obj_df['form'] == 'следующее', 'number'] = 'Sing'\n",
    "obj_df.loc[obj_df['form'] == 'новую', 'number'] = 'Sing'\n",
    "obj_df.loc[obj_df['form'] == 'толстый', 'number'] = 'Sing'\n",
    "obj_df.loc[obj_df['form'] == 'часовой', 'number'] = 'Sing'\n",
    "obj_df.loc[obj_df['form'] == 'другую', 'number'] = 'Sing'\n",
    "obj_df.loc[obj_df['form'] == 'маленьких', 'number'] = 'Plur'\n",
    "obj_df.loc[obj_df['form'] == 'второго', 'number'] = 'Sing'\n",
    "obj_df.head()"
   ]
  },
  {
   "cell_type": "code",
   "execution_count": 31,
   "id": "efa8e24a",
   "metadata": {},
   "outputs": [
    {
     "data": {
      "text/plain": [
       "ту        1\n",
       "те        1\n",
       "его       1\n",
       "мой       1\n",
       "своего    1\n",
       "свое      1\n",
       "Name: form, dtype: int64"
      ]
     },
     "execution_count": 31,
     "metadata": {},
     "output_type": "execute_result"
    }
   ],
   "source": [
    "obj_df[obj_df['pos'] == 'DET']['form'].value_counts()"
   ]
  },
  {
   "cell_type": "code",
   "execution_count": 32,
   "id": "cc0d1d26",
   "metadata": {},
   "outputs": [
    {
     "data": {
      "text/html": [
       "<div>\n",
       "<style scoped>\n",
       "    .dataframe tbody tr th:only-of-type {\n",
       "        vertical-align: middle;\n",
       "    }\n",
       "\n",
       "    .dataframe tbody tr th {\n",
       "        vertical-align: top;\n",
       "    }\n",
       "\n",
       "    .dataframe thead th {\n",
       "        text-align: right;\n",
       "    }\n",
       "</style>\n",
       "<table border=\"1\" class=\"dataframe\">\n",
       "  <thead>\n",
       "    <tr style=\"text-align: right;\">\n",
       "      <th></th>\n",
       "      <th>id</th>\n",
       "      <th>form</th>\n",
       "      <th>pos</th>\n",
       "      <th>animacy</th>\n",
       "      <th>number</th>\n",
       "    </tr>\n",
       "  </thead>\n",
       "  <tbody>\n",
       "    <tr>\n",
       "      <th>0</th>\n",
       "      <td>1</td>\n",
       "      <td>себя</td>\n",
       "      <td>PRON</td>\n",
       "      <td>Anim</td>\n",
       "      <td>0</td>\n",
       "    </tr>\n",
       "    <tr>\n",
       "      <th>1</th>\n",
       "      <td>2</td>\n",
       "      <td>приговор</td>\n",
       "      <td>NOUN</td>\n",
       "      <td>Inan</td>\n",
       "      <td>Sing</td>\n",
       "    </tr>\n",
       "    <tr>\n",
       "      <th>2</th>\n",
       "      <td>5</td>\n",
       "      <td>0</td>\n",
       "      <td>0</td>\n",
       "      <td>0</td>\n",
       "      <td>0</td>\n",
       "    </tr>\n",
       "    <tr>\n",
       "      <th>3</th>\n",
       "      <td>7</td>\n",
       "      <td>0</td>\n",
       "      <td>0</td>\n",
       "      <td>0</td>\n",
       "      <td>0</td>\n",
       "    </tr>\n",
       "    <tr>\n",
       "      <th>4</th>\n",
       "      <td>9</td>\n",
       "      <td>0</td>\n",
       "      <td>0</td>\n",
       "      <td>0</td>\n",
       "      <td>0</td>\n",
       "    </tr>\n",
       "  </tbody>\n",
       "</table>\n",
       "</div>"
      ],
      "text/plain": [
       "   id      form   pos animacy number\n",
       "0   1      себя  PRON    Anim      0\n",
       "1   2  приговор  NOUN    Inan   Sing\n",
       "2   5         0     0       0      0\n",
       "3   7         0     0       0      0\n",
       "4   9         0     0       0      0"
      ]
     },
     "execution_count": 32,
     "metadata": {},
     "output_type": "execute_result"
    }
   ],
   "source": [
    "obj_df.loc[obj_df['form'] == 'ту', 'number'] = 'Sing'\n",
    "obj_df.loc[obj_df['form'] == 'те', 'number'] = 'Plur'\n",
    "obj_df.loc[obj_df['form'] == 'мой', 'number'] = 'Sing'\n",
    "obj_df.loc[obj_df['form'] == 'своего', 'number'] = 'Sing'\n",
    "obj_df.loc[obj_df['form'] == 'свое', 'number'] = 'Sing'\n",
    "obj_df.head()"
   ]
  },
  {
   "cell_type": "code",
   "execution_count": 35,
   "id": "07b0f964",
   "metadata": {},
   "outputs": [
    {
     "data": {
      "text/html": [
       "<div>\n",
       "<style scoped>\n",
       "    .dataframe tbody tr th:only-of-type {\n",
       "        vertical-align: middle;\n",
       "    }\n",
       "\n",
       "    .dataframe tbody tr th {\n",
       "        vertical-align: top;\n",
       "    }\n",
       "\n",
       "    .dataframe thead th {\n",
       "        text-align: right;\n",
       "    }\n",
       "</style>\n",
       "<table border=\"1\" class=\"dataframe\">\n",
       "  <thead>\n",
       "    <tr style=\"text-align: right;\">\n",
       "      <th></th>\n",
       "      <th>id</th>\n",
       "      <th>form</th>\n",
       "      <th>pos</th>\n",
       "      <th>animacy</th>\n",
       "      <th>number</th>\n",
       "    </tr>\n",
       "  </thead>\n",
       "  <tbody>\n",
       "    <tr>\n",
       "      <th>1</th>\n",
       "      <td>2</td>\n",
       "      <td>приговор</td>\n",
       "      <td>NOUN</td>\n",
       "      <td>Inan</td>\n",
       "      <td>Sing</td>\n",
       "    </tr>\n",
       "    <tr>\n",
       "      <th>5</th>\n",
       "      <td>12</td>\n",
       "      <td>дрожь</td>\n",
       "      <td>NOUN</td>\n",
       "      <td>Inan</td>\n",
       "      <td>Sing</td>\n",
       "    </tr>\n",
       "    <tr>\n",
       "      <th>7</th>\n",
       "      <td>15</td>\n",
       "      <td>финал</td>\n",
       "      <td>NOUN</td>\n",
       "      <td>Inan</td>\n",
       "      <td>Sing</td>\n",
       "    </tr>\n",
       "    <tr>\n",
       "      <th>8</th>\n",
       "      <td>16</td>\n",
       "      <td>холодок</td>\n",
       "      <td>NOUN</td>\n",
       "      <td>Inan</td>\n",
       "      <td>Sing</td>\n",
       "    </tr>\n",
       "    <tr>\n",
       "      <th>10</th>\n",
       "      <td>18</td>\n",
       "      <td>горизонт</td>\n",
       "      <td>NOUN</td>\n",
       "      <td>Inan</td>\n",
       "      <td>Sing</td>\n",
       "    </tr>\n",
       "  </tbody>\n",
       "</table>\n",
       "</div>"
      ],
      "text/plain": [
       "    id      form   pos animacy number\n",
       "1    2  приговор  NOUN    Inan   Sing\n",
       "5   12     дрожь  NOUN    Inan   Sing\n",
       "7   15     финал  NOUN    Inan   Sing\n",
       "8   16   холодок  NOUN    Inan   Sing\n",
       "10  18  горизонт  NOUN    Inan   Sing"
      ]
     },
     "execution_count": 35,
     "metadata": {},
     "output_type": "execute_result"
    }
   ],
   "source": [
    "not_null_objects = obj_df[obj_df.number != '0']\n",
    "not_null_objects.head()"
   ]
  },
  {
   "cell_type": "code",
   "execution_count": 36,
   "id": "e04d8eba",
   "metadata": {},
   "outputs": [
    {
     "data": {
      "text/plain": [
       "<AxesSubplot:xlabel='number', ylabel='count'>"
      ]
     },
     "execution_count": 36,
     "metadata": {},
     "output_type": "execute_result"
    },
    {
     "data": {
      "image/png": "[encoded data removed]",
      "text/plain": [
       "<Figure size 432x288 with 1 Axes>"
      ]
     },
     "metadata": {
      "needs_background": "light"
     },
     "output_type": "display_data"
    }
   ],
   "source": [
    "sns.countplot(x = \"number\", data = not_null_objects)"
   ]
  },
  {
   "cell_type": "code",
   "execution_count": 37,
   "id": "f50b29fb",
   "metadata": {},
   "outputs": [
    {
     "data": {
      "text/plain": [
       "Sing    382\n",
       "Plur    127\n",
       "Name: number, dtype: int64"
      ]
     },
     "execution_count": 37,
     "metadata": {},
     "output_type": "execute_result"
    }
   ],
   "source": [
    "not_null_objects['number'].value_counts()"
   ]
  },
  {
   "cell_type": "code",
   "execution_count": 38,
   "id": "fd81823e",
   "metadata": {},
   "outputs": [
    {
     "data": {
      "text/plain": [
       "(13.059770165519318, 2.7948141531588083e-39)"
      ]
     },
     "execution_count": 38,
     "metadata": {},
     "output_type": "execute_result"
    }
   ],
   "source": [
    "proportions_ztest(382, 509, value = 0.5, alternative = 'larger')"
   ]
  },
  {
   "cell_type": "markdown",
   "id": "d97e6bd1",
   "metadata": {},
   "source": [
    "Наши ожидания оправдались."
   ]
  },
  {
   "cell_type": "markdown",
   "id": "9a1279b3",
   "metadata": {},
   "source": [
    "### Заключение"
   ]
  },
  {
   "cell_type": "markdown",
   "id": "2c606cf8",
   "metadata": {},
   "source": [
    "| критерий | соответствие Хопперу и Томпсон |\n",
    "|----------|--------------------------------|\n",
    "| вид глагола | нет |\n",
    "| одушевлённость подлежащего | да |\n",
    "| одушевлённость дополнения | нет |\n",
    "| число дополнения | да |"
   ]
  },
  {
   "cell_type": "markdown",
   "id": "4829d1ab",
   "metadata": {},
   "source": [
    "#### Идея для финального проекта"
   ]
  },
  {
   "cell_type": "markdown",
   "id": "962c706f",
   "metadata": {},
   "source": [
    "Я бы хотела сделать что-то связанное с порядковыми числительными: возможно, выкачать из нкря сколько-то примеров, в которых есть порядковые числительные, разметить их в зависимости от семантики числительного в данном случае. Но это звучит как 30% автоматической работы и 70% работы руками, что, наверное, не очень подходит. Других идей у меня пока нет, если вы подскажете, как можно доработать эту, буду благодарна."
   ]
  }
 ],
 "metadata": {
  "kernelspec": {
   "display_name": "Python 3",
   "language": "python",
   "name": "python3"
  },
  "language_info": {
   "codemirror_mode": {
    "name": "ipython",
    "version": 3
   },
   "file_extension": ".py",
   "mimetype": "text/x-python",
   "name": "python",
   "nbconvert_exporter": "python",
   "pygments_lexer": "ipython3",
   "version": "3.8.8"
  }
 },
 "nbformat": 4,
 "nbformat_minor": 5
}
